{
 "cells": [
  {
   "cell_type": "markdown",
   "metadata": {},
   "source": [
    "<h1 align=\"center\">CENSO EDUCAÇÃO SUPERIOR 2016 </h1>"
   ]
  },
  {
   "cell_type": "markdown",
   "metadata": {},
   "source": [
    "**Objetivo**: explorar [base de dados](http://inep.gov.br/microdados) do censo da educação superior de 2016."
   ]
  },
  {
   "cell_type": "code",
   "execution_count": 1,
   "metadata": {},
   "outputs": [],
   "source": [
    "import warnings\n",
    "warnings.filterwarnings('ignore')"
   ]
  },
  {
   "cell_type": "code",
   "execution_count": 15,
   "metadata": {},
   "outputs": [],
   "source": [
    "#para selecionar linhas aleatórias do dataframe\n",
    "import random\n",
    "\n",
    "import pandas as pd\n",
    "import numpy as np\n",
    "\n",
    "import matplotlib.pyplot as plt\n",
    "import seaborn as sns\n",
    "from wordcloud import WordCloud\n",
    "\n",
    "from scipy import stats\n",
    "from statsmodels.stats import diagnostic"
   ]
  },
  {
   "cell_type": "code",
   "execution_count": 3,
   "metadata": {},
   "outputs": [],
   "source": [
    "plt.style.use('seaborn-colorblind')"
   ]
  },
  {
   "cell_type": "markdown",
   "metadata": {},
   "source": [
    "## Diferença na escolaridade dos docentes"
   ]
  },
  {
   "cell_type": "code",
   "execution_count": 4,
   "metadata": {},
   "outputs": [
    {
     "data": {
      "text/plain": [
       "(397611, 50)"
      ]
     },
     "execution_count": 4,
     "metadata": {},
     "output_type": "execute_result"
    }
   ],
   "source": [
    "docentes = pd.read_csv('DM_DOCENTE.CSV',encoding= 'latin-1', sep='|')\n",
    "docentes.shape"
   ]
  },
  {
   "cell_type": "code",
   "execution_count": 5,
   "metadata": {},
   "outputs": [
    {
     "data": {
      "text/html": [
       "<div>\n",
       "<style scoped>\n",
       "    .dataframe tbody tr th:only-of-type {\n",
       "        vertical-align: middle;\n",
       "    }\n",
       "\n",
       "    .dataframe tbody tr th {\n",
       "        vertical-align: top;\n",
       "    }\n",
       "\n",
       "    .dataframe thead th {\n",
       "        text-align: right;\n",
       "    }\n",
       "</style>\n",
       "<table border=\"1\" class=\"dataframe\">\n",
       "  <thead>\n",
       "    <tr style=\"text-align: right;\">\n",
       "      <th></th>\n",
       "      <th>CO_IES</th>\n",
       "      <th>NO_IES</th>\n",
       "      <th>CO_CATEGORIA_ADMINISTRATIVA</th>\n",
       "      <th>DS_CATEGORIA_ADMINISTRATIVA</th>\n",
       "      <th>CO_ORGANIZACAO_ACADEMICA</th>\n",
       "      <th>DS_ORGANIZACAO_ACADEMICA</th>\n",
       "      <th>IN_CAPITAL_IES</th>\n",
       "      <th>CO_DOCENTE_IES</th>\n",
       "      <th>CO_DOCENTE</th>\n",
       "      <th>CO_SITUACAO_DOCENTE</th>\n",
       "      <th>...</th>\n",
       "      <th>IN_ATU_GRAD_PRESENCIAL</th>\n",
       "      <th>IN_ATU_POS_EAD</th>\n",
       "      <th>IN_ATU_POS_PRESENCIAL</th>\n",
       "      <th>IN_ATU_SEQUENCIAL</th>\n",
       "      <th>IN_ATU_PESQUISA</th>\n",
       "      <th>IN_BOLSA_PESQUISA</th>\n",
       "      <th>IN_SUBSTITUTO</th>\n",
       "      <th>IN_EXERCICIO_DT_REF</th>\n",
       "      <th>IN_VISITANTE</th>\n",
       "      <th>IN_VISITANTE_IFES_VINCULO</th>\n",
       "    </tr>\n",
       "  </thead>\n",
       "  <tbody>\n",
       "    <tr>\n",
       "      <th>0</th>\n",
       "      <td>1</td>\n",
       "      <td>UNIVERSIDADE FEDERAL DE MATO GROSSO</td>\n",
       "      <td>1</td>\n",
       "      <td>Pública Federal</td>\n",
       "      <td>1</td>\n",
       "      <td>Universidade</td>\n",
       "      <td>1</td>\n",
       "      <td>559840</td>\n",
       "      <td>669</td>\n",
       "      <td>1</td>\n",
       "      <td>...</td>\n",
       "      <td>0.0</td>\n",
       "      <td>0.0</td>\n",
       "      <td>0.0</td>\n",
       "      <td>0.0</td>\n",
       "      <td>0.0</td>\n",
       "      <td>NaN</td>\n",
       "      <td>0.0</td>\n",
       "      <td>1.0</td>\n",
       "      <td>0.0</td>\n",
       "      <td>NaN</td>\n",
       "    </tr>\n",
       "    <tr>\n",
       "      <th>1</th>\n",
       "      <td>1</td>\n",
       "      <td>UNIVERSIDADE FEDERAL DE MATO GROSSO</td>\n",
       "      <td>1</td>\n",
       "      <td>Pública Federal</td>\n",
       "      <td>1</td>\n",
       "      <td>Universidade</td>\n",
       "      <td>1</td>\n",
       "      <td>559841</td>\n",
       "      <td>670</td>\n",
       "      <td>1</td>\n",
       "      <td>...</td>\n",
       "      <td>1.0</td>\n",
       "      <td>0.0</td>\n",
       "      <td>1.0</td>\n",
       "      <td>0.0</td>\n",
       "      <td>1.0</td>\n",
       "      <td>1.0</td>\n",
       "      <td>0.0</td>\n",
       "      <td>1.0</td>\n",
       "      <td>0.0</td>\n",
       "      <td>NaN</td>\n",
       "    </tr>\n",
       "    <tr>\n",
       "      <th>2</th>\n",
       "      <td>1</td>\n",
       "      <td>UNIVERSIDADE FEDERAL DE MATO GROSSO</td>\n",
       "      <td>1</td>\n",
       "      <td>Pública Federal</td>\n",
       "      <td>1</td>\n",
       "      <td>Universidade</td>\n",
       "      <td>1</td>\n",
       "      <td>559839</td>\n",
       "      <td>719</td>\n",
       "      <td>1</td>\n",
       "      <td>...</td>\n",
       "      <td>0.0</td>\n",
       "      <td>0.0</td>\n",
       "      <td>0.0</td>\n",
       "      <td>0.0</td>\n",
       "      <td>1.0</td>\n",
       "      <td>0.0</td>\n",
       "      <td>0.0</td>\n",
       "      <td>1.0</td>\n",
       "      <td>0.0</td>\n",
       "      <td>NaN</td>\n",
       "    </tr>\n",
       "  </tbody>\n",
       "</table>\n",
       "<p>3 rows × 50 columns</p>\n",
       "</div>"
      ],
      "text/plain": [
       "   CO_IES                               NO_IES  CO_CATEGORIA_ADMINISTRATIVA  \\\n",
       "0       1  UNIVERSIDADE FEDERAL DE MATO GROSSO                            1   \n",
       "1       1  UNIVERSIDADE FEDERAL DE MATO GROSSO                            1   \n",
       "2       1  UNIVERSIDADE FEDERAL DE MATO GROSSO                            1   \n",
       "\n",
       "  DS_CATEGORIA_ADMINISTRATIVA  CO_ORGANIZACAO_ACADEMICA  \\\n",
       "0             Pública Federal                         1   \n",
       "1             Pública Federal                         1   \n",
       "2             Pública Federal                         1   \n",
       "\n",
       "  DS_ORGANIZACAO_ACADEMICA  IN_CAPITAL_IES  CO_DOCENTE_IES  CO_DOCENTE  \\\n",
       "0             Universidade               1          559840         669   \n",
       "1             Universidade               1          559841         670   \n",
       "2             Universidade               1          559839         719   \n",
       "\n",
       "   CO_SITUACAO_DOCENTE  ... IN_ATU_GRAD_PRESENCIAL  IN_ATU_POS_EAD  \\\n",
       "0                    1  ...                    0.0             0.0   \n",
       "1                    1  ...                    1.0             0.0   \n",
       "2                    1  ...                    0.0             0.0   \n",
       "\n",
       "  IN_ATU_POS_PRESENCIAL  IN_ATU_SEQUENCIAL IN_ATU_PESQUISA  IN_BOLSA_PESQUISA  \\\n",
       "0                   0.0                0.0             0.0                NaN   \n",
       "1                   1.0                0.0             1.0                1.0   \n",
       "2                   0.0                0.0             1.0                0.0   \n",
       "\n",
       "  IN_SUBSTITUTO  IN_EXERCICIO_DT_REF  IN_VISITANTE  IN_VISITANTE_IFES_VINCULO  \n",
       "0           0.0                  1.0           0.0                        NaN  \n",
       "1           0.0                  1.0           0.0                        NaN  \n",
       "2           0.0                  1.0           0.0                        NaN  \n",
       "\n",
       "[3 rows x 50 columns]"
      ]
     },
     "execution_count": 5,
     "metadata": {},
     "output_type": "execute_result"
    }
   ],
   "source": [
    "docentes.head(3)"
   ]
  },
  {
   "cell_type": "code",
   "execution_count": 12,
   "metadata": {
    "scrolled": true
   },
   "outputs": [
    {
     "data": {
      "image/png": "[encoded data removed]",
      "text/plain": [
       "<Figure size 432x288 with 1 Axes>"
      ]
     },
     "metadata": {
      "needs_background": "light"
     },
     "output_type": "display_data"
    }
   ],
   "source": [
    "plt.hist(docentes['NU_IDADE_DOCENTE'], bins=20, color='#3CB371');"
   ]
  },
  {
   "cell_type": "markdown",
   "metadata": {},
   "source": [
    "A maior parte dos docentes tem entre 30 e 40 anos. E existem docentes com mais de 80 anos (!)"
   ]
  },
  {
   "cell_type": "code",
   "execution_count": 15,
   "metadata": {},
   "outputs": [
    {
     "data": {
      "image/png": "[encoded data removed]",
      "text/plain": [
       "<Figure size 432x288 with 1 Axes>"
      ]
     },
     "metadata": {
      "needs_background": "light"
     },
     "output_type": "display_data"
    }
   ],
   "source": [
    "sns.countplot(docentes['DS_ESCOLARIDADE_DOCENTE'])\n",
    "plt.xticks(rotation=30, ha='right')\n",
    "plt.xlabel(\"\")\n",
    "plt.ylabel(\"\");"
   ]
  },
  {
   "cell_type": "code",
   "execution_count": 13,
   "metadata": {},
   "outputs": [
    {
     "data": {
      "text/plain": [
       "Mestrado          157405\n",
       "Doutorado         153021\n",
       "Especialização     81290\n",
       "Graduação           5875\n",
       "Sem Graduação         20\n",
       "Name: DS_ESCOLARIDADE_DOCENTE, dtype: int64"
      ]
     },
     "execution_count": 13,
     "metadata": {},
     "output_type": "execute_result"
    }
   ],
   "source": [
    "docentes['DS_ESCOLARIDADE_DOCENTE'].value_counts()"
   ]
  },
  {
   "cell_type": "code",
   "execution_count": 16,
   "metadata": {},
   "outputs": [
    {
     "data": {
      "image/png": "[encoded data removed]",
      "text/plain": [
       "<Figure size 432x288 with 1 Axes>"
      ]
     },
     "metadata": {
      "needs_background": "light"
     },
     "output_type": "display_data"
    }
   ],
   "source": [
    "sns.boxplot(docentes.NU_IDADE_DOCENTE, docentes.DS_ESCOLARIDADE_DOCENTE)\n",
    "plt.xlabel(\"\")\n",
    "plt.ylabel(\"\")\n",
    "plt.show()"
   ]
  },
  {
   "cell_type": "code",
   "execution_count": 14,
   "metadata": {},
   "outputs": [],
   "source": [
    "# Vou verificar se existem diferenças significativas entre as idades dessas categorias de escolaridade:\n",
    "escolaridade = docentes[['DS_ESCOLARIDADE_DOCENTE', 'NU_IDADE_DOCENTE']]\n",
    "\n",
    "mestre = escolaridade.query('DS_ESCOLARIDADE_DOCENTE == \"Mestrado\"').drop('DS_ESCOLARIDADE_DOCENTE',axis=1).dropna()\n",
    "doutor = escolaridade.query('DS_ESCOLARIDADE_DOCENTE == \"Doutorado\"').drop('DS_ESCOLARIDADE_DOCENTE',axis=1).dropna()\n",
    "pos = escolaridade.query('DS_ESCOLARIDADE_DOCENTE == \"Especialização\"').drop('DS_ESCOLARIDADE_DOCENTE',axis=1).dropna()\n",
    "graduado = escolaridade.query('DS_ESCOLARIDADE_DOCENTE == \"Graduação\"').drop('DS_ESCOLARIDADE_DOCENTE',axis=1).dropna()\n",
    "sem_graduacao = escolaridade.query('DS_ESCOLARIDADE_DOCENTE == \"Sem Graduação\"').drop('DS_ESCOLARIDADE_DOCENTE',axis=1).dropna()"
   ]
  },
  {
   "cell_type": "code",
   "execution_count": 18,
   "metadata": {},
   "outputs": [
    {
     "name": "stdout",
     "output_type": "stream",
     "text": [
      "157405\n",
      "153021\n",
      "81290\n",
      "5875\n",
      "20\n"
     ]
    }
   ],
   "source": [
    "print(mestre.shape[0])\n",
    "print(doutor.shape[0])\n",
    "print(pos.shape[0])\n",
    "print(graduado.shape[0])\n",
    "print(sem_graduacao.shape[0])"
   ]
  },
  {
   "cell_type": "code",
   "execution_count": 33,
   "metadata": {},
   "outputs": [],
   "source": [
    "#A amostra sem graduação é muito pequena, vou retirar ela da análise."
   ]
  },
  {
   "cell_type": "code",
   "execution_count": 19,
   "metadata": {},
   "outputs": [
    {
     "name": "stdout",
     "output_type": "stream",
     "text": [
      "graduado: (0.999957411711735, 0.0)\n"
     ]
    }
   ],
   "source": [
    "# Vou testar uma amostra menor para verificar normalidade de distribuição de idade, \n",
    "# só para ter certeza de que meus dados não são mesmo normais\n",
    "print('graduado:',diagnostic.lilliefors(graduado))"
   ]
  },
  {
   "cell_type": "code",
   "execution_count": 24,
   "metadata": {},
   "outputs": [
    {
     "data": {
      "text/plain": [
       "KruskalResult(statistic=19140.532290085783, pvalue=0.0)"
      ]
     },
     "execution_count": 24,
     "metadata": {},
     "output_type": "execute_result"
    }
   ],
   "source": [
    "# Agora eu já entro em comparações múltiplas pq não tenho mais só duas amostras pra comparar\n",
    "# O Teste de Kruskal-Wallis é um teste não paramétrico para comparações de múltiplas amostras\n",
    "stats.kruskal(mestre,doutor,pos,graduado)"
   ]
  },
  {
   "cell_type": "code",
   "execution_count": 21,
   "metadata": {},
   "outputs": [
    {
     "data": {
      "text/plain": [
       "MannwhitneyuResult(statistic=9104523964.0, pvalue=0.0)"
      ]
     },
     "execution_count": 21,
     "metadata": {},
     "output_type": "execute_result"
    }
   ],
   "source": [
    "# Agora que vi que existem diferenças significativas entre as amostras, vou verificar duas as duas para ver onde:\n",
    "stats.mannwhitneyu(mestre,doutor, alternative='two-sided')"
   ]
  },
  {
   "cell_type": "code",
   "execution_count": 22,
   "metadata": {},
   "outputs": [
    {
     "data": {
      "text/plain": [
       "MannwhitneyuResult(statistic=7707609596.0, pvalue=0.0)"
      ]
     },
     "execution_count": 22,
     "metadata": {},
     "output_type": "execute_result"
    }
   ],
   "source": [
    "stats.mannwhitneyu(doutor,pos, alternative='two-sided')"
   ]
  },
  {
   "cell_type": "code",
   "execution_count": 23,
   "metadata": {},
   "outputs": [
    {
     "data": {
      "text/plain": [
       "MannwhitneyuResult(statistic=7707609596.0, pvalue=0.0)"
      ]
     },
     "execution_count": 23,
     "metadata": {},
     "output_type": "execute_result"
    }
   ],
   "source": [
    "stats.mannwhitneyu(pos,graduado, alternative='two-sided')"
   ]
  },
  {
   "cell_type": "code",
   "execution_count": 25,
   "metadata": {},
   "outputs": [
    {
     "data": {
      "text/plain": [
       "MannwhitneyuResult(statistic=6373196859.5, pvalue=0.12400044451013888)"
      ]
     },
     "execution_count": 25,
     "metadata": {},
     "output_type": "execute_result"
    }
   ],
   "source": [
    "stats.mannwhitneyu(mestre,pos, alternative='two-sided')"
   ]
  },
  {
   "cell_type": "code",
   "execution_count": 27,
   "metadata": {},
   "outputs": [
    {
     "data": {
      "text/plain": [
       "MannwhitneyuResult(statistic=618968541.5, pvalue=0.0)"
      ]
     },
     "execution_count": 27,
     "metadata": {},
     "output_type": "execute_result"
    }
   ],
   "source": [
    "stats.mannwhitneyu(mestre,graduado, alternative='two-sided')"
   ]
  },
  {
   "cell_type": "code",
   "execution_count": 28,
   "metadata": {},
   "outputs": [
    {
     "data": {
      "text/plain": [
       "MannwhitneyuResult(statistic=676907327.0, pvalue=0.0)"
      ]
     },
     "execution_count": 28,
     "metadata": {},
     "output_type": "execute_result"
    }
   ],
   "source": [
    "stats.mannwhitneyu(doutor,graduado, alternative='two-sided')"
   ]
  },
  {
   "cell_type": "code",
   "execution_count": 43,
   "metadata": {},
   "outputs": [],
   "source": [
    "#OK, vi que não existem diferenças significativas na idade dos mestres e especialitas, o que faz sentido\n",
    "# se pensarmos que vários professores seguem o caminho graduacao-pós graduacao, sendo ela mestrado ou especialização"
   ]
  },
  {
   "cell_type": "code",
   "execution_count": null,
   "metadata": {},
   "outputs": [],
   "source": []
  }
 ],
 "metadata": {
  "kernelspec": {
   "display_name": "Python 3",
   "language": "python",
   "name": "python3"
  },
  "language_info": {
   "codemirror_mode": {
    "name": "ipython",
    "version": 3
   },
   "file_extension": ".py",
   "mimetype": "text/x-python",
   "name": "python",
   "nbconvert_exporter": "python",
   "pygments_lexer": "ipython3",
   "version": "3.7.3"
  }
 },
 "nbformat": 4,
 "nbformat_minor": 2
}
